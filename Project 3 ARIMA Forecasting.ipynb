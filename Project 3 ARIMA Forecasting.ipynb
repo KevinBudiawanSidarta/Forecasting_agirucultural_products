{
 "cells": [
  {
   "cell_type": "code",
   "execution_count": 32,
   "id": "86726b6b-7e90-4f6c-92ce-26dc3a63e41d",
   "metadata": {},
   "outputs": [],
   "source": [
    "import pandas as pd\n",
    "import datetime\n",
    "from datetime import date, timedelta\n",
    "import matplotlib.pyplot as plt\n",
    "plt.style.use('fivethirtyeight')\n",
    "from statsmodels.tsa.seasonal import seasonal_decompose\n",
    "from statsmodels.tsa.arima.model import ARIMA \n",
    "from statsmodels.graphics.tsaplots import plot_pacf,plot_acf\n",
    "import statsmodels.api as sm\n",
    "import warnings\n",
    "import seaborn as sns\n",
    "import plotly.express as px\n",
    "import plotly.graph_objects as go"
   ]
  },
  {
   "cell_type": "code",
   "execution_count": 33,
   "id": "fb87254b-eb53-49c8-8035-3dbf336c6ac2",
   "metadata": {},
   "outputs": [
    {
     "data": {
      "text/html": [
       "<div>\n",
       "<style scoped>\n",
       "    .dataframe tbody tr th:only-of-type {\n",
       "        vertical-align: middle;\n",
       "    }\n",
       "\n",
       "    .dataframe tbody tr th {\n",
       "        vertical-align: top;\n",
       "    }\n",
       "\n",
       "    .dataframe thead th {\n",
       "        text-align: right;\n",
       "    }\n",
       "</style>\n",
       "<table border=\"1\" class=\"dataframe\">\n",
       "  <thead>\n",
       "    <tr style=\"text-align: right;\">\n",
       "      <th></th>\n",
       "      <th>Iso3</th>\n",
       "      <th>StartDate</th>\n",
       "      <th>EndDate</th>\n",
       "      <th>Area Code</th>\n",
       "      <th>Area Code (M49)</th>\n",
       "      <th>Area</th>\n",
       "      <th>Item Code</th>\n",
       "      <th>Item Code (CPC)</th>\n",
       "      <th>Item</th>\n",
       "      <th>Element Code</th>\n",
       "      <th>Element</th>\n",
       "      <th>Year Code</th>\n",
       "      <th>Year</th>\n",
       "      <th>Months Code</th>\n",
       "      <th>Months</th>\n",
       "      <th>Unit</th>\n",
       "      <th>Value</th>\n",
       "      <th>Flag</th>\n",
       "    </tr>\n",
       "  </thead>\n",
       "  <tbody>\n",
       "    <tr>\n",
       "      <th>0</th>\n",
       "      <td>#country+code</td>\n",
       "      <td>#date+start</td>\n",
       "      <td>#date+end</td>\n",
       "      <td>NaN</td>\n",
       "      <td>NaN</td>\n",
       "      <td>#country+name</td>\n",
       "      <td>#indicator+code</td>\n",
       "      <td>NaN</td>\n",
       "      <td>#indicator+name</td>\n",
       "      <td>NaN</td>\n",
       "      <td>NaN</td>\n",
       "      <td>NaN</td>\n",
       "      <td>#date+year</td>\n",
       "      <td>NaN</td>\n",
       "      <td>NaN</td>\n",
       "      <td>#indicator+type</td>\n",
       "      <td>#indicator+value+num</td>\n",
       "      <td>NaN</td>\n",
       "    </tr>\n",
       "    <tr>\n",
       "      <th>1</th>\n",
       "      <td>IDN</td>\n",
       "      <td>1991-01-01</td>\n",
       "      <td>1991-12-31</td>\n",
       "      <td>101.0</td>\n",
       "      <td>'360</td>\n",
       "      <td>Indonesia</td>\n",
       "      <td>809</td>\n",
       "      <td>'01929.07</td>\n",
       "      <td>Abaca, manila hemp, raw</td>\n",
       "      <td>5539.0</td>\n",
       "      <td>Producer Price Index (2014-2016 = 100)</td>\n",
       "      <td>1991.0</td>\n",
       "      <td>1991</td>\n",
       "      <td>7021.0</td>\n",
       "      <td>Annual value</td>\n",
       "      <td>NaN</td>\n",
       "      <td>7.880000</td>\n",
       "      <td>I</td>\n",
       "    </tr>\n",
       "    <tr>\n",
       "      <th>2</th>\n",
       "      <td>IDN</td>\n",
       "      <td>1992-01-01</td>\n",
       "      <td>1992-12-31</td>\n",
       "      <td>101.0</td>\n",
       "      <td>'360</td>\n",
       "      <td>Indonesia</td>\n",
       "      <td>809</td>\n",
       "      <td>'01929.07</td>\n",
       "      <td>Abaca, manila hemp, raw</td>\n",
       "      <td>5539.0</td>\n",
       "      <td>Producer Price Index (2014-2016 = 100)</td>\n",
       "      <td>1992.0</td>\n",
       "      <td>1992</td>\n",
       "      <td>7021.0</td>\n",
       "      <td>Annual value</td>\n",
       "      <td>NaN</td>\n",
       "      <td>8.230000</td>\n",
       "      <td>I</td>\n",
       "    </tr>\n",
       "    <tr>\n",
       "      <th>3</th>\n",
       "      <td>IDN</td>\n",
       "      <td>1993-01-01</td>\n",
       "      <td>1993-12-31</td>\n",
       "      <td>101.0</td>\n",
       "      <td>'360</td>\n",
       "      <td>Indonesia</td>\n",
       "      <td>809</td>\n",
       "      <td>'01929.07</td>\n",
       "      <td>Abaca, manila hemp, raw</td>\n",
       "      <td>5539.0</td>\n",
       "      <td>Producer Price Index (2014-2016 = 100)</td>\n",
       "      <td>1993.0</td>\n",
       "      <td>1993</td>\n",
       "      <td>7021.0</td>\n",
       "      <td>Annual value</td>\n",
       "      <td>NaN</td>\n",
       "      <td>7.680000</td>\n",
       "      <td>I</td>\n",
       "    </tr>\n",
       "    <tr>\n",
       "      <th>4</th>\n",
       "      <td>IDN</td>\n",
       "      <td>1994-01-01</td>\n",
       "      <td>1994-12-31</td>\n",
       "      <td>101.0</td>\n",
       "      <td>'360</td>\n",
       "      <td>Indonesia</td>\n",
       "      <td>809</td>\n",
       "      <td>'01929.07</td>\n",
       "      <td>Abaca, manila hemp, raw</td>\n",
       "      <td>5539.0</td>\n",
       "      <td>Producer Price Index (2014-2016 = 100)</td>\n",
       "      <td>1994.0</td>\n",
       "      <td>1994</td>\n",
       "      <td>7021.0</td>\n",
       "      <td>Annual value</td>\n",
       "      <td>NaN</td>\n",
       "      <td>9.760000</td>\n",
       "      <td>I</td>\n",
       "    </tr>\n",
       "  </tbody>\n",
       "</table>\n",
       "</div>"
      ],
      "text/plain": [
       "            Iso3    StartDate     EndDate  Area Code Area Code (M49)  \\\n",
       "0  #country+code  #date+start   #date+end        NaN             NaN   \n",
       "1            IDN   1991-01-01  1991-12-31      101.0            '360   \n",
       "2            IDN   1992-01-01  1992-12-31      101.0            '360   \n",
       "3            IDN   1993-01-01  1993-12-31      101.0            '360   \n",
       "4            IDN   1994-01-01  1994-12-31      101.0            '360   \n",
       "\n",
       "            Area        Item Code Item Code (CPC)                     Item  \\\n",
       "0  #country+name  #indicator+code             NaN          #indicator+name   \n",
       "1      Indonesia              809       '01929.07  Abaca, manila hemp, raw   \n",
       "2      Indonesia              809       '01929.07  Abaca, manila hemp, raw   \n",
       "3      Indonesia              809       '01929.07  Abaca, manila hemp, raw   \n",
       "4      Indonesia              809       '01929.07  Abaca, manila hemp, raw   \n",
       "\n",
       "   Element Code                                 Element  Year Code  \\\n",
       "0           NaN                                     NaN        NaN   \n",
       "1        5539.0  Producer Price Index (2014-2016 = 100)     1991.0   \n",
       "2        5539.0  Producer Price Index (2014-2016 = 100)     1992.0   \n",
       "3        5539.0  Producer Price Index (2014-2016 = 100)     1993.0   \n",
       "4        5539.0  Producer Price Index (2014-2016 = 100)     1994.0   \n",
       "\n",
       "         Year  Months Code        Months             Unit  \\\n",
       "0  #date+year          NaN           NaN  #indicator+type   \n",
       "1        1991       7021.0  Annual value              NaN   \n",
       "2        1992       7021.0  Annual value              NaN   \n",
       "3        1993       7021.0  Annual value              NaN   \n",
       "4        1994       7021.0  Annual value              NaN   \n",
       "\n",
       "                  Value Flag  \n",
       "0  #indicator+value+num  NaN  \n",
       "1              7.880000    I  \n",
       "2              8.230000    I  \n",
       "3              7.680000    I  \n",
       "4              9.760000    I  "
      ]
     },
     "execution_count": 33,
     "metadata": {},
     "output_type": "execute_result"
    }
   ],
   "source": [
    "pd.set_option('display.max_columns',None)\n",
    "df = pd.read_csv('producer-prices_idn.csv')\n",
    "df.head()"
   ]
  },
  {
   "cell_type": "markdown",
   "id": "56d7d924-848a-4970-adee-47c5decbdb6a",
   "metadata": {},
   "source": [
    "### Data Preparation"
   ]
  },
  {
   "cell_type": "code",
   "execution_count": 34,
   "id": "277e73f6-60c6-49ac-b1cd-91993cc6c817",
   "metadata": {},
   "outputs": [],
   "source": [
    "df.drop(['Iso3','Year','StartDate','Area Code','Area Code (M49)','Item Code','Item Code (CPC)','Element Code','Year Code','Months Code','Flag'],axis=1,inplace=True)\n",
    "df = df.drop(index=0)"
   ]
  },
  {
   "cell_type": "code",
   "execution_count": 35,
   "id": "12b8a24e-e6b1-40fd-a895-39069049b664",
   "metadata": {},
   "outputs": [
    {
     "data": {
      "text/plain": [
       "EndDate    object\n",
       "Area       object\n",
       "Item       object\n",
       "Element    object\n",
       "Months     object\n",
       "Unit       object\n",
       "Value      object\n",
       "dtype: object"
      ]
     },
     "execution_count": 35,
     "metadata": {},
     "output_type": "execute_result"
    }
   ],
   "source": [
    "df.dtypes"
   ]
  },
  {
   "cell_type": "code",
   "execution_count": 36,
   "id": "9cc1dee8-d92d-4623-9fba-d30cb8aa4832",
   "metadata": {},
   "outputs": [],
   "source": [
    "df['Value'] = pd.to_numeric(df['Value'])"
   ]
  },
  {
   "cell_type": "code",
   "execution_count": 37,
   "id": "63b0de0b-ff36-492d-92e0-e8f3e18f7d9f",
   "metadata": {},
   "outputs": [],
   "source": [
    "df['EndDate'] = pd.to_datetime(df['EndDate'])"
   ]
  },
  {
   "cell_type": "markdown",
   "id": "0bb2f783-bfd8-4ee4-8b16-845de29f5f0a",
   "metadata": {},
   "source": [
    "### Modelling"
   ]
  },
  {
   "cell_type": "code",
   "execution_count": 38,
   "id": "5ee4c871-86b5-4a67-9d39-5c880bcf59fa",
   "metadata": {},
   "outputs": [
    {
     "name": "stdin",
     "output_type": "stream",
     "text": [
      "Masukan data yang ingin diprediksi Abaca, manila hemp, raw\n"
     ]
    }
   ],
   "source": [
    "item = input(\"Masukan data yang ingin diprediksi\")\n",
    "item_filter = df['Item'] == item\n",
    "element_filter = df['Element'] == 'Producer Price Index (2014-2016 = 100)'\n",
    "months_filter = df['Months'] == 'Annual value'\n",
    "# Menerapkan filter\n",
    "df = df[item_filter & element_filter & months_filter].copy()"
   ]
  },
  {
   "cell_type": "code",
   "execution_count": 39,
   "id": "0d073a5b-d3e7-47ec-b55a-ef57dc9b9c4c",
   "metadata": {},
   "outputs": [],
   "source": [
    "# Menghapus outlier kalau ada\n",
    "Q1 = df['Value'].quantile(0.25)\n",
    "Q3 = df['Value'].quantile(0.75)\n",
    "IQR = Q3 - Q1\n",
    "\n",
    "# Batas bawah dan atas\n",
    "lower_bound = Q1 - 1.5 * IQR\n",
    "upper_bound = Q3 + 1.5 * IQR\n",
    "\n",
    "# Filter\n",
    "df = df[(df['Value'] >= lower_bound) & (df['Value'] <= upper_bound)]"
   ]
  },
  {
   "cell_type": "code",
   "execution_count": 40,
   "id": "beb0f903-a9e4-45f2-ba69-95238882783d",
   "metadata": {},
   "outputs": [],
   "source": [
    "df = df[['EndDate', 'Value']].sort_values('EndDate')"
   ]
  },
  {
   "cell_type": "code",
   "execution_count": 41,
   "id": "8887a1c5-5053-4897-bebb-1c965fe51e9e",
   "metadata": {},
   "outputs": [],
   "source": [
    "series = df.set_index('EndDate')['Value']"
   ]
  },
  {
   "cell_type": "code",
   "execution_count": 42,
   "id": "c3029604-5aee-44a8-96ad-c27de5c55285",
   "metadata": {},
   "outputs": [
    {
     "name": "stdout",
     "output_type": "stream",
     "text": [
      "EndDate\n",
      "1991-12-31     7.88\n",
      "1992-12-31     8.23\n",
      "1993-12-31     7.68\n",
      "1994-12-31     9.76\n",
      "1995-12-31    11.70\n",
      "Name: Value, dtype: float64\n"
     ]
    }
   ],
   "source": [
    "print(series.head())"
   ]
  },
  {
   "cell_type": "code",
   "execution_count": 43,
   "id": "02dcbe8d-b79c-4e47-b4cb-0ed164ba10fb",
   "metadata": {},
   "outputs": [
    {
     "data": {
      "text/plain": [
       "<Axes: xlabel='EndDate'>"
      ]
     },
     "execution_count": 43,
     "metadata": {},
     "output_type": "execute_result"
    },
    {
     "data": {
      "image/png": "[encoded data removed]",
      "text/plain": [
       "<Figure size 640x480 with 1 Axes>"
      ]
     },
     "metadata": {},
     "output_type": "display_data"
    }
   ],
   "source": [
    "series.plot()"
   ]
  },
  {
   "cell_type": "code",
   "execution_count": 44,
   "id": "54d6b736-27fb-4015-9107-a48de8609257",
   "metadata": {},
   "outputs": [
    {
     "data": {
      "image/png": "[encoded data removed]",
      "text/plain": [
       "<Figure size 640x480 with 1 Axes>"
      ]
     },
     "metadata": {},
     "output_type": "display_data"
    }
   ],
   "source": [
    "from pandas.plotting import autocorrelation_plot\n",
    "autocorrelation_plot(series)\n",
    "plt.show()"
   ]
  },
  {
   "cell_type": "code",
   "execution_count": 45,
   "id": "1b4430a0-77b8-420d-bc2f-83f019442490",
   "metadata": {},
   "outputs": [
    {
     "data": {
      "image/png": "[encoded data removed]",
      "text/plain": [
       "<Figure size 640x480 with 1 Axes>"
      ]
     },
     "execution_count": 45,
     "metadata": {},
     "output_type": "execute_result"
    },
    {
     "data": {
      "image/png": "[encoded data removed]",
      "text/plain": [
       "<Figure size 640x480 with 1 Axes>"
      ]
     },
     "metadata": {},
     "output_type": "display_data"
    }
   ],
   "source": [
    "plot_acf(series)"
   ]
  },
  {
   "cell_type": "code",
   "execution_count": 46,
   "id": "4352d223-9a54-4997-a715-8ad7bfe05aee",
   "metadata": {},
   "outputs": [
    {
     "data": {
      "image/png": "[encoded data removed]",
      "text/plain": [
       "<Figure size 640x480 with 1 Axes>"
      ]
     },
     "execution_count": 46,
     "metadata": {},
     "output_type": "execute_result"
    },
    {
     "data": {
      "image/png": "[encoded data removed]",
      "text/plain": [
       "<Figure size 640x480 with 1 Axes>"
      ]
     },
     "metadata": {},
     "output_type": "display_data"
    }
   ],
   "source": [
    "plot_pacf(series)"
   ]
  },
  {
   "cell_type": "code",
   "execution_count": 47,
   "id": "e72e88f0-d1cd-4439-b888-bfe331b03a85",
   "metadata": {},
   "outputs": [],
   "source": [
    "import warnings\n",
    "warnings.filterwarnings(\"ignore\", category=Warning)\n",
    "model = ARIMA(series, order=(5,1,1))\n",
    "model_fit = model.fit()"
   ]
  },
  {
   "cell_type": "code",
   "execution_count": 48,
   "id": "839d45fb-3aeb-45ae-a42f-95cfbba5337e",
   "metadata": {
    "scrolled": true
   },
   "outputs": [
    {
     "name": "stdout",
     "output_type": "stream",
     "text": [
      "                               SARIMAX Results                                \n",
      "==============================================================================\n",
      "Dep. Variable:                  Value   No. Observations:                   34\n",
      "Model:                 ARIMA(5, 1, 1)   Log Likelihood                 -89.659\n",
      "Date:                Thu, 03 Jul 2025   AIC                            193.318\n",
      "Time:                        19:55:31   BIC                            203.793\n",
      "Sample:                    12-31-1991   HQIC                           196.843\n",
      "                         - 12-31-2024                                         \n",
      "Covariance Type:                  opg                                         \n",
      "==============================================================================\n",
      "                 coef    std err          z      P>|z|      [0.025      0.975]\n",
      "------------------------------------------------------------------------------\n",
      "ar.L1          0.5109      1.707      0.299      0.765      -2.834       3.856\n",
      "ar.L2          0.0328      0.614      0.053      0.957      -1.171       1.237\n",
      "ar.L3          0.2728      0.482      0.566      0.571      -0.672       1.218\n",
      "ar.L4          0.2341      0.764      0.307      0.759      -1.263       1.731\n",
      "ar.L5         -0.2324      0.423     -0.550      0.582      -1.061       0.596\n",
      "ma.L1         -0.1409      1.717     -0.082      0.935      -3.506       3.224\n",
      "sigma2        12.8940      4.146      3.110      0.002       4.768      21.020\n",
      "===================================================================================\n",
      "Ljung-Box (L1) (Q):                   0.18   Jarque-Bera (JB):                 2.40\n",
      "Prob(Q):                              0.67   Prob(JB):                         0.30\n",
      "Heteroskedasticity (H):               0.38   Skew:                             0.60\n",
      "Prob(H) (two-sided):                  0.12   Kurtosis:                         3.56\n",
      "===================================================================================\n",
      "\n",
      "Warnings:\n",
      "[1] Covariance matrix calculated using the outer product of gradients (complex-step).\n"
     ]
    }
   ],
   "source": [
    "print(model_fit.summary())"
   ]
  },
  {
   "cell_type": "code",
   "execution_count": 49,
   "id": "8b69aa9e-d24a-4a48-bfd2-e69cb5406c63",
   "metadata": {},
   "outputs": [
    {
     "data": {
      "image/png": "[encoded data removed]",
      "text/plain": [
       "<Figure size 640x480 with 1 Axes>"
      ]
     },
     "metadata": {},
     "output_type": "display_data"
    }
   ],
   "source": [
    "from pandas import DataFrame\n",
    "residuals = DataFrame(model_fit.resid)\n",
    "residuals.plot()\n",
    "plt.show()"
   ]
  },
  {
   "cell_type": "code",
   "execution_count": 50,
   "id": "882bc8ff-84e7-4f65-8798-68d1b5c35b8d",
   "metadata": {},
   "outputs": [
    {
     "data": {
      "image/png": "[encoded data removed]",
      "text/plain": [
       "<Figure size 640x480 with 1 Axes>"
      ]
     },
     "metadata": {},
     "output_type": "display_data"
    }
   ],
   "source": [
    "residuals.plot(kind='kde')\n",
    "plt.show()"
   ]
  },
  {
   "cell_type": "code",
   "execution_count": 51,
   "id": "4d787ffb-485b-431d-9574-88b8881f4428",
   "metadata": {},
   "outputs": [
    {
     "name": "stdout",
     "output_type": "stream",
     "text": [
      "               0\n",
      "count  34.000000\n",
      "mean    1.138663\n",
      "std     3.671384\n",
      "min    -7.077763\n",
      "25%    -0.911762\n",
      "50%     0.520643\n",
      "75%     2.443244\n",
      "max     9.948929\n"
     ]
    }
   ],
   "source": [
    "print(residuals.describe())"
   ]
  },
  {
   "cell_type": "code",
   "execution_count": 52,
   "id": "e6cc78df-d9a9-45be-a208-e621842a1071",
   "metadata": {},
   "outputs": [],
   "source": [
    "X = series.values\n",
    "size = int(len(X) * 0.66)\n",
    "train, test = X[0:size], X[size:len(X)]\n",
    "history = [x for x in train]\n",
    "predictions = list()"
   ]
  },
  {
   "cell_type": "code",
   "execution_count": 53,
   "id": "d749e932-e06a-4791-a277-e0c2bd58a547",
   "metadata": {},
   "outputs": [
    {
     "name": "stdout",
     "output_type": "stream",
     "text": [
      "predicted=90.695496, expected=91.940000\n",
      "predicted=99.521848, expected=98.680000\n",
      "predicted=100.732464, expected=99.470000\n",
      "predicted=100.507569, expected=101.860000\n",
      "predicted=105.117004, expected=104.490000\n",
      "predicted=106.264510, expected=107.780000\n",
      "predicted=108.374897, expected=111.140000\n",
      "predicted=113.685747, expected=114.830000\n",
      "predicted=117.611134, expected=116.710000\n",
      "predicted=118.917549, expected=119.370000\n",
      "predicted=121.692274, expected=127.560000\n",
      "predicted=131.796846, expected=129.570000\n"
     ]
    }
   ],
   "source": [
    "for t in range(len(test)):\n",
    "\tmodel = ARIMA(history, order=(5,1,1))\n",
    "\tmodel_fit = model.fit()\n",
    "\toutput = model_fit.forecast()\n",
    "\tyhat = output[0]\n",
    "\tpredictions.append(yhat)\n",
    "\tobs = test[t]\n",
    "\thistory.append(obs)\n",
    "\tprint('predicted=%f, expected=%f' % (yhat, obs))"
   ]
  },
  {
   "cell_type": "code",
   "execution_count": 54,
   "id": "4a66f932-766f-4137-bf20-dbabf587bb16",
   "metadata": {},
   "outputs": [],
   "source": [
    "from sklearn.metrics import mean_squared_error\n",
    "from math import sqrt\n",
    "rmse = sqrt(mean_squared_error(test, predictions))"
   ]
  },
  {
   "cell_type": "code",
   "execution_count": 55,
   "id": "eff917d9-772d-4280-9a9c-53c775992cfd",
   "metadata": {},
   "outputs": [
    {
     "data": {
      "image/png": "[encoded data removed]",
      "text/plain": [
       "<Figure size 640x480 with 1 Axes>"
      ]
     },
     "metadata": {},
     "output_type": "display_data"
    }
   ],
   "source": [
    "plt.plot(test)\n",
    "plt.plot(predictions, color='red')\n",
    "plt.show()"
   ]
  },
  {
   "cell_type": "code",
   "execution_count": 63,
   "id": "95e83732-aa88-4e87-a3c7-418f5fa74af2",
   "metadata": {},
   "outputs": [],
   "source": [
    "last_date = series.index[-1]  \n",
    "future_dates = pd.date_range(start=last_date + pd.DateOffset(years=1), periods=10, freq='Y')"
   ]
  },
  {
   "cell_type": "code",
   "execution_count": 57,
   "id": "e4b05a44-ccb2-4864-9ad9-bcbdec0b781e",
   "metadata": {},
   "outputs": [],
   "source": [
    "forecast = model_fit.forecast(steps=10)"
   ]
  },
  {
   "cell_type": "code",
   "execution_count": 58,
   "id": "ad25117d-2263-4429-b75a-32b2eba289f0",
   "metadata": {},
   "outputs": [],
   "source": [
    "forecast_series = pd.Series(forecast, index=future_dates)"
   ]
  },
  {
   "cell_type": "code",
   "execution_count": 59,
   "id": "4b9f161a-b06f-4285-863e-4d21a4d3a3ba",
   "metadata": {},
   "outputs": [
    {
     "data": {
      "text/plain": [
       "2025-12-31    131.796846\n",
       "2026-12-31    134.536738\n",
       "2027-12-31    138.479301\n",
       "2028-12-31    143.086043\n",
       "2029-12-31    145.452968\n",
       "2030-12-31    147.552790\n",
       "2031-12-31    150.260489\n",
       "2032-12-31    152.556300\n",
       "2033-12-31    153.895724\n",
       "2034-12-31    155.342096\n",
       "Freq: YE-DEC, dtype: float64"
      ]
     },
     "execution_count": 59,
     "metadata": {},
     "output_type": "execute_result"
    }
   ],
   "source": [
    "forecast_series"
   ]
  },
  {
   "cell_type": "code",
   "execution_count": 60,
   "id": "bbdec8f2-5310-4d59-bd56-1c612e869316",
   "metadata": {},
   "outputs": [
    {
     "data": {
      "application/vnd.plotly.v1+json": {
       "config": {
        "plotlyServerURL": "https://plot.ly"
       },
       "data": [
        {
         "name": "Historical",
         "type": "scatter",
         "x": [
          "1991-12-31T00:00:00.000000000",
          "1992-12-31T00:00:00.000000000",
          "1993-12-31T00:00:00.000000000",
          "1994-12-31T00:00:00.000000000",
          "1995-12-31T00:00:00.000000000",
          "1996-12-31T00:00:00.000000000",
          "1997-12-31T00:00:00.000000000",
          "1998-12-31T00:00:00.000000000",
          "1999-12-31T00:00:00.000000000",
          "2000-12-31T00:00:00.000000000",
          "2001-12-31T00:00:00.000000000",
          "2002-12-31T00:00:00.000000000",
          "2003-12-31T00:00:00.000000000",
          "2004-12-31T00:00:00.000000000",
          "2005-12-31T00:00:00.000000000",
          "2006-12-31T00:00:00.000000000",
          "2007-12-31T00:00:00.000000000",
          "2008-12-31T00:00:00.000000000",
          "2009-12-31T00:00:00.000000000",
          "2010-12-31T00:00:00.000000000",
          "2011-12-31T00:00:00.000000000",
          "2012-12-31T00:00:00.000000000",
          "2013-12-31T00:00:00.000000000",
          "2014-12-31T00:00:00.000000000",
          "2015-12-31T00:00:00.000000000",
          "2016-12-31T00:00:00.000000000",
          "2017-12-31T00:00:00.000000000",
          "2018-12-31T00:00:00.000000000",
          "2019-12-31T00:00:00.000000000",
          "2020-12-31T00:00:00.000000000",
          "2021-12-31T00:00:00.000000000",
          "2022-12-31T00:00:00.000000000",
          "2023-12-31T00:00:00.000000000",
          "2024-12-31T00:00:00.000000000"
         ],
         "y": {
          "bdata": "hetRuB6FH0D2KFyPwnUgQLgehetRuB5AhetRuB6FI0BmZmZmZmYnQI/C9ShcDyhACtejcD0KK0C4HoXrUXg3QBSuR+F6VD5AuB6F61G4OkBI4XoUrsc8QM3MzMzMzD5AMzMzMzPzP0DNzMzMzAxAQJqZmZmZ2T9A7FG4HoVrQ0BmZmZmZoZHQLgehetR+EtACtejcD0KTkDXo3A9CidTQLgehetRuFRA4XoUrkeRVUBcj8L1KPxWQOxRuB6Fq1hArkfhehTeWEDXo3A9CndZQI/C9ShcH1pAUrgehevxWkApXI/C9chbQIXrUbgetVxAPQrXo3AtXUBI4XoUrtddQKRwPQrX419ACtejcD0yYEA=",
          "dtype": "f8"
         }
        },
        {
         "line": {
          "dash": "dash"
         },
         "name": "Forecast",
         "type": "scatter",
         "x": [
          "2025-12-31T00:00:00.000000000",
          "2026-12-31T00:00:00.000000000",
          "2027-12-31T00:00:00.000000000",
          "2028-12-31T00:00:00.000000000",
          "2029-12-31T00:00:00.000000000",
          "2030-12-31T00:00:00.000000000",
          "2031-12-31T00:00:00.000000000",
          "2032-12-31T00:00:00.000000000",
          "2033-12-31T00:00:00.000000000",
          "2034-12-31T00:00:00.000000000"
         ],
         "y": {
          "bdata": "J+Jow395YEAOs5r0LNFgQE+9BHBWT2FAko283cDiYUAMlGa2fi5iQAIoOnWwcWJAoT237FXIYkClGbc0zRFjQGKmssWpPGNAAdq/c/JqY0A=",
          "dtype": "f8"
         }
        }
       ],
       "layout": {
        "template": {
         "data": {
          "bar": [
           {
            "error_x": {
             "color": "rgb(36,36,36)"
            },
            "error_y": {
             "color": "rgb(36,36,36)"
            },
            "marker": {
             "line": {
              "color": "white",
              "width": 0.5
             },
             "pattern": {
              "fillmode": "overlay",
              "size": 10,
              "solidity": 0.2
             }
            },
            "type": "bar"
           }
          ],
          "barpolar": [
           {
            "marker": {
             "line": {
              "color": "white",
              "width": 0.5
             },
             "pattern": {
              "fillmode": "overlay",
              "size": 10,
              "solidity": 0.2
             }
            },
            "type": "barpolar"
           }
          ],
          "carpet": [
           {
            "aaxis": {
             "endlinecolor": "rgb(36,36,36)",
             "gridcolor": "white",
             "linecolor": "white",
             "minorgridcolor": "white",
             "startlinecolor": "rgb(36,36,36)"
            },
            "baxis": {
             "endlinecolor": "rgb(36,36,36)",
             "gridcolor": "white",
             "linecolor": "white",
             "minorgridcolor": "white",
             "startlinecolor": "rgb(36,36,36)"
            },
            "type": "carpet"
           }
          ],
          "choropleth": [
           {
            "colorbar": {
             "outlinewidth": 1,
             "tickcolor": "rgb(36,36,36)",
             "ticks": "outside"
            },
            "type": "choropleth"
           }
          ],
          "contour": [
           {
            "colorbar": {
             "outlinewidth": 1,
             "tickcolor": "rgb(36,36,36)",
             "ticks": "outside"
            },
            "colorscale": [
             [
              0,
              "#440154"
             ],
             [
              0.1111111111111111,
              "#482878"
             ],
             [
              0.2222222222222222,
              "#3e4989"
             ],
             [
              0.3333333333333333,
              "#31688e"
             ],
             [
              0.4444444444444444,
              "#26828e"
             ],
             [
              0.5555555555555556,
              "#1f9e89"
             ],
             [
              0.6666666666666666,
              "#35b779"
             ],
             [
              0.7777777777777778,
              "#6ece58"
             ],
             [
              0.8888888888888888,
              "#b5de2b"
             ],
             [
              1,
              "#fde725"
             ]
            ],
            "type": "contour"
           }
          ],
          "contourcarpet": [
           {
            "colorbar": {
             "outlinewidth": 1,
             "tickcolor": "rgb(36,36,36)",
             "ticks": "outside"
            },
            "type": "contourcarpet"
           }
          ],
          "heatmap": [
           {
            "colorbar": {
             "outlinewidth": 1,
             "tickcolor": "rgb(36,36,36)",
             "ticks": "outside"
            },
            "colorscale": [
             [
              0,
              "#440154"
             ],
             [
              0.1111111111111111,
              "#482878"
             ],
             [
              0.2222222222222222,
              "#3e4989"
             ],
             [
              0.3333333333333333,
              "#31688e"
             ],
             [
              0.4444444444444444,
              "#26828e"
             ],
             [
              0.5555555555555556,
              "#1f9e89"
             ],
             [
              0.6666666666666666,
              "#35b779"
             ],
             [
              0.7777777777777778,
              "#6ece58"
             ],
             [
              0.8888888888888888,
              "#b5de2b"
             ],
             [
              1,
              "#fde725"
             ]
            ],
            "type": "heatmap"
           }
          ],
          "histogram": [
           {
            "marker": {
             "line": {
              "color": "white",
              "width": 0.6
             }
            },
            "type": "histogram"
           }
          ],
          "histogram2d": [
           {
            "colorbar": {
             "outlinewidth": 1,
             "tickcolor": "rgb(36,36,36)",
             "ticks": "outside"
            },
            "colorscale": [
             [
              0,
              "#440154"
             ],
             [
              0.1111111111111111,
              "#482878"
             ],
             [
              0.2222222222222222,
              "#3e4989"
             ],
             [
              0.3333333333333333,
              "#31688e"
             ],
             [
              0.4444444444444444,
              "#26828e"
             ],
             [
              0.5555555555555556,
              "#1f9e89"
             ],
             [
              0.6666666666666666,
              "#35b779"
             ],
             [
              0.7777777777777778,
              "#6ece58"
             ],
             [
              0.8888888888888888,
              "#b5de2b"
             ],
             [
              1,
              "#fde725"
             ]
            ],
            "type": "histogram2d"
           }
          ],
          "histogram2dcontour": [
           {
            "colorbar": {
             "outlinewidth": 1,
             "tickcolor": "rgb(36,36,36)",
             "ticks": "outside"
            },
            "colorscale": [
             [
              0,
              "#440154"
             ],
             [
              0.1111111111111111,
              "#482878"
             ],
             [
              0.2222222222222222,
              "#3e4989"
             ],
             [
              0.3333333333333333,
              "#31688e"
             ],
             [
              0.4444444444444444,
              "#26828e"
             ],
             [
              0.5555555555555556,
              "#1f9e89"
             ],
             [
              0.6666666666666666,
              "#35b779"
             ],
             [
              0.7777777777777778,
              "#6ece58"
             ],
             [
              0.8888888888888888,
              "#b5de2b"
             ],
             [
              1,
              "#fde725"
             ]
            ],
            "type": "histogram2dcontour"
           }
          ],
          "mesh3d": [
           {
            "colorbar": {
             "outlinewidth": 1,
             "tickcolor": "rgb(36,36,36)",
             "ticks": "outside"
            },
            "type": "mesh3d"
           }
          ],
          "parcoords": [
           {
            "line": {
             "colorbar": {
              "outlinewidth": 1,
              "tickcolor": "rgb(36,36,36)",
              "ticks": "outside"
             }
            },
            "type": "parcoords"
           }
          ],
          "pie": [
           {
            "automargin": true,
            "type": "pie"
           }
          ],
          "scatter": [
           {
            "fillpattern": {
             "fillmode": "overlay",
             "size": 10,
             "solidity": 0.2
            },
            "type": "scatter"
           }
          ],
          "scatter3d": [
           {
            "line": {
             "colorbar": {
              "outlinewidth": 1,
              "tickcolor": "rgb(36,36,36)",
              "ticks": "outside"
             }
            },
            "marker": {
             "colorbar": {
              "outlinewidth": 1,
              "tickcolor": "rgb(36,36,36)",
              "ticks": "outside"
             }
            },
            "type": "scatter3d"
           }
          ],
          "scattercarpet": [
           {
            "marker": {
             "colorbar": {
              "outlinewidth": 1,
              "tickcolor": "rgb(36,36,36)",
              "ticks": "outside"
             }
            },
            "type": "scattercarpet"
           }
          ],
          "scattergeo": [
           {
            "marker": {
             "colorbar": {
              "outlinewidth": 1,
              "tickcolor": "rgb(36,36,36)",
              "ticks": "outside"
             }
            },
            "type": "scattergeo"
           }
          ],
          "scattergl": [
           {
            "marker": {
             "colorbar": {
              "outlinewidth": 1,
              "tickcolor": "rgb(36,36,36)",
              "ticks": "outside"
             }
            },
            "type": "scattergl"
           }
          ],
          "scattermap": [
           {
            "marker": {
             "colorbar": {
              "outlinewidth": 1,
              "tickcolor": "rgb(36,36,36)",
              "ticks": "outside"
             }
            },
            "type": "scattermap"
           }
          ],
          "scattermapbox": [
           {
            "marker": {
             "colorbar": {
              "outlinewidth": 1,
              "tickcolor": "rgb(36,36,36)",
              "ticks": "outside"
             }
            },
            "type": "scattermapbox"
           }
          ],
          "scatterpolar": [
           {
            "marker": {
             "colorbar": {
              "outlinewidth": 1,
              "tickcolor": "rgb(36,36,36)",
              "ticks": "outside"
             }
            },
            "type": "scatterpolar"
           }
          ],
          "scatterpolargl": [
           {
            "marker": {
             "colorbar": {
              "outlinewidth": 1,
              "tickcolor": "rgb(36,36,36)",
              "ticks": "outside"
             }
            },
            "type": "scatterpolargl"
           }
          ],
          "scatterternary": [
           {
            "marker": {
             "colorbar": {
              "outlinewidth": 1,
              "tickcolor": "rgb(36,36,36)",
              "ticks": "outside"
             }
            },
            "type": "scatterternary"
           }
          ],
          "surface": [
           {
            "colorbar": {
             "outlinewidth": 1,
             "tickcolor": "rgb(36,36,36)",
             "ticks": "outside"
            },
            "colorscale": [
             [
              0,
              "#440154"
             ],
             [
              0.1111111111111111,
              "#482878"
             ],
             [
              0.2222222222222222,
              "#3e4989"
             ],
             [
              0.3333333333333333,
              "#31688e"
             ],
             [
              0.4444444444444444,
              "#26828e"
             ],
             [
              0.5555555555555556,
              "#1f9e89"
             ],
             [
              0.6666666666666666,
              "#35b779"
             ],
             [
              0.7777777777777778,
              "#6ece58"
             ],
             [
              0.8888888888888888,
              "#b5de2b"
             ],
             [
              1,
              "#fde725"
             ]
            ],
            "type": "surface"
           }
          ],
          "table": [
           {
            "cells": {
             "fill": {
              "color": "rgb(237,237,237)"
             },
             "line": {
              "color": "white"
             }
            },
            "header": {
             "fill": {
              "color": "rgb(217,217,217)"
             },
             "line": {
              "color": "white"
             }
            },
            "type": "table"
           }
          ]
         },
         "layout": {
          "annotationdefaults": {
           "arrowhead": 0,
           "arrowwidth": 1
          },
          "autotypenumbers": "strict",
          "coloraxis": {
           "colorbar": {
            "outlinewidth": 1,
            "tickcolor": "rgb(36,36,36)",
            "ticks": "outside"
           }
          },
          "colorscale": {
           "diverging": [
            [
             0,
             "rgb(103,0,31)"
            ],
            [
             0.1,
             "rgb(178,24,43)"
            ],
            [
             0.2,
             "rgb(214,96,77)"
            ],
            [
             0.3,
             "rgb(244,165,130)"
            ],
            [
             0.4,
             "rgb(253,219,199)"
            ],
            [
             0.5,
             "rgb(247,247,247)"
            ],
            [
             0.6,
             "rgb(209,229,240)"
            ],
            [
             0.7,
             "rgb(146,197,222)"
            ],
            [
             0.8,
             "rgb(67,147,195)"
            ],
            [
             0.9,
             "rgb(33,102,172)"
            ],
            [
             1,
             "rgb(5,48,97)"
            ]
           ],
           "sequential": [
            [
             0,
             "#440154"
            ],
            [
             0.1111111111111111,
             "#482878"
            ],
            [
             0.2222222222222222,
             "#3e4989"
            ],
            [
             0.3333333333333333,
             "#31688e"
            ],
            [
             0.4444444444444444,
             "#26828e"
            ],
            [
             0.5555555555555556,
             "#1f9e89"
            ],
            [
             0.6666666666666666,
             "#35b779"
            ],
            [
             0.7777777777777778,
             "#6ece58"
            ],
            [
             0.8888888888888888,
             "#b5de2b"
            ],
            [
             1,
             "#fde725"
            ]
           ],
           "sequentialminus": [
            [
             0,
             "#440154"
            ],
            [
             0.1111111111111111,
             "#482878"
            ],
            [
             0.2222222222222222,
             "#3e4989"
            ],
            [
             0.3333333333333333,
             "#31688e"
            ],
            [
             0.4444444444444444,
             "#26828e"
            ],
            [
             0.5555555555555556,
             "#1f9e89"
            ],
            [
             0.6666666666666666,
             "#35b779"
            ],
            [
             0.7777777777777778,
             "#6ece58"
            ],
            [
             0.8888888888888888,
             "#b5de2b"
            ],
            [
             1,
             "#fde725"
            ]
           ]
          },
          "colorway": [
           "#1F77B4",
           "#FF7F0E",
           "#2CA02C",
           "#D62728",
           "#9467BD",
           "#8C564B",
           "#E377C2",
           "#7F7F7F",
           "#BCBD22",
           "#17BECF"
          ],
          "font": {
           "color": "rgb(36,36,36)"
          },
          "geo": {
           "bgcolor": "white",
           "lakecolor": "white",
           "landcolor": "white",
           "showlakes": true,
           "showland": true,
           "subunitcolor": "white"
          },
          "hoverlabel": {
           "align": "left"
          },
          "hovermode": "closest",
          "mapbox": {
           "style": "light"
          },
          "paper_bgcolor": "white",
          "plot_bgcolor": "white",
          "polar": {
           "angularaxis": {
            "gridcolor": "rgb(232,232,232)",
            "linecolor": "rgb(36,36,36)",
            "showgrid": false,
            "showline": true,
            "ticks": "outside"
           },
           "bgcolor": "white",
           "radialaxis": {
            "gridcolor": "rgb(232,232,232)",
            "linecolor": "rgb(36,36,36)",
            "showgrid": false,
            "showline": true,
            "ticks": "outside"
           }
          },
          "scene": {
           "xaxis": {
            "backgroundcolor": "white",
            "gridcolor": "rgb(232,232,232)",
            "gridwidth": 2,
            "linecolor": "rgb(36,36,36)",
            "showbackground": true,
            "showgrid": false,
            "showline": true,
            "ticks": "outside",
            "zeroline": false,
            "zerolinecolor": "rgb(36,36,36)"
           },
           "yaxis": {
            "backgroundcolor": "white",
            "gridcolor": "rgb(232,232,232)",
            "gridwidth": 2,
            "linecolor": "rgb(36,36,36)",
            "showbackground": true,
            "showgrid": false,
            "showline": true,
            "ticks": "outside",
            "zeroline": false,
            "zerolinecolor": "rgb(36,36,36)"
           },
           "zaxis": {
            "backgroundcolor": "white",
            "gridcolor": "rgb(232,232,232)",
            "gridwidth": 2,
            "linecolor": "rgb(36,36,36)",
            "showbackground": true,
            "showgrid": false,
            "showline": true,
            "ticks": "outside",
            "zeroline": false,
            "zerolinecolor": "rgb(36,36,36)"
           }
          },
          "shapedefaults": {
           "fillcolor": "black",
           "line": {
            "width": 0
           },
           "opacity": 0.3
          },
          "ternary": {
           "aaxis": {
            "gridcolor": "rgb(232,232,232)",
            "linecolor": "rgb(36,36,36)",
            "showgrid": false,
            "showline": true,
            "ticks": "outside"
           },
           "baxis": {
            "gridcolor": "rgb(232,232,232)",
            "linecolor": "rgb(36,36,36)",
            "showgrid": false,
            "showline": true,
            "ticks": "outside"
           },
           "bgcolor": "white",
           "caxis": {
            "gridcolor": "rgb(232,232,232)",
            "linecolor": "rgb(36,36,36)",
            "showgrid": false,
            "showline": true,
            "ticks": "outside"
           }
          },
          "title": {
           "x": 0.05
          },
          "xaxis": {
           "automargin": true,
           "gridcolor": "rgb(232,232,232)",
           "linecolor": "rgb(36,36,36)",
           "showgrid": false,
           "showline": true,
           "ticks": "outside",
           "title": {
            "standoff": 15
           },
           "zeroline": false,
           "zerolinecolor": "rgb(36,36,36)"
          },
          "yaxis": {
           "automargin": true,
           "gridcolor": "rgb(232,232,232)",
           "linecolor": "rgb(36,36,36)",
           "showgrid": false,
           "showline": true,
           "ticks": "outside",
           "title": {
            "standoff": 15
           },
           "zeroline": false,
           "zerolinecolor": "rgb(36,36,36)"
          }
         }
        },
        "title": {
         "text": "Forecast 10 Years Ahead"
        },
        "xaxis": {
         "title": {
          "text": "Year"
         }
        },
        "yaxis": {
         "title": {
          "text": "Value"
         }
        }
       }
      }
     },
     "metadata": {},
     "output_type": "display_data"
    }
   ],
   "source": [
    "import plotly.graph_objects as go\n",
    "\n",
    "fig = go.Figure()\n",
    "\n",
    "fig.add_trace(go.Scatter(x=series.index, y=series.values, name='Historical'))\n",
    "fig.add_trace(go.Scatter(x=forecast_series.index, y=forecast_series.values, name='Forecast', line=dict(dash='dash')))\n",
    "\n",
    "fig.update_layout(\n",
    "    title='Forecast 10 Years Ahead',\n",
    "    xaxis_title='Year',\n",
    "    yaxis_title='Value',\n",
    "    template='simple_white'\n",
    ")\n",
    "\n",
    "fig.show()"
   ]
  },
  {
   "cell_type": "code",
   "execution_count": 61,
   "id": "a42f3d5c-8bed-4df9-89bb-870da321ab81",
   "metadata": {},
   "outputs": [
    {
     "name": "stdout",
     "output_type": "stream",
     "text": [
      "131.79684610829392\n",
      "134.53673773016675\n",
      "138.4793014614647\n",
      "143.0860432322193\n",
      "145.45296783480478\n",
      "147.55279027327202\n",
      "150.2604888514443\n",
      "152.55629955064538\n",
      "153.8957241524941\n",
      "155.3420962092496\n"
     ]
    }
   ],
   "source": [
    "for date in forecast_series.values:\n",
    "    print(date)"
   ]
  },
  {
   "cell_type": "code",
   "execution_count": 62,
   "id": "a7ac2ae9-b244-445b-91fd-fcbfe8f14217",
   "metadata": {},
   "outputs": [
    {
     "name": "stdout",
     "output_type": "stream",
     "text": [
      "2025-12-31 00:00:00\n",
      "2026-12-31 00:00:00\n",
      "2027-12-31 00:00:00\n",
      "2028-12-31 00:00:00\n",
      "2029-12-31 00:00:00\n",
      "2030-12-31 00:00:00\n",
      "2031-12-31 00:00:00\n",
      "2032-12-31 00:00:00\n",
      "2033-12-31 00:00:00\n",
      "2034-12-31 00:00:00\n"
     ]
    }
   ],
   "source": [
    "for date in forecast_series.index:\n",
    "    print(date)"
   ]
  },
  {
   "cell_type": "code",
   "execution_count": null,
   "id": "5c3c210a-39fd-4fc0-b111-de59ad1694e9",
   "metadata": {},
   "outputs": [],
   "source": []
  }
 ],
 "metadata": {
  "kernelspec": {
   "display_name": "Python 3 (ipykernel)",
   "language": "python",
   "name": "python3"
  },
  "language_info": {
   "codemirror_mode": {
    "name": "ipython",
    "version": 3
   },
   "file_extension": ".py",
   "mimetype": "text/x-python",
   "name": "python",
   "nbconvert_exporter": "python",
   "pygments_lexer": "ipython3",
   "version": "3.13.3"
  }
 },
 "nbformat": 4,
 "nbformat_minor": 5
}
